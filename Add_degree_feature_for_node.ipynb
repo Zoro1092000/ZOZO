{
  "nbformat": 4,
  "nbformat_minor": 0,
  "metadata": {
    "colab": {
      "provenance": [],
      "mount_file_id": "1EH43dXgaCGfHjrEbJb22eeBhpru19VJZ",
      "authorship_tag": "ABX9TyO/3Vl/0Vt2GCMxW+TFG3Bg",
      "include_colab_link": true
    },
    "kernelspec": {
      "name": "python3",
      "display_name": "Python 3"
    },
    "language_info": {
      "name": "python"
    }
  },
  "cells": [
    {
      "cell_type": "markdown",
      "metadata": {
        "id": "view-in-github",
        "colab_type": "text"
      },
      "source": [
        "<a href=\"https://colab.research.google.com/github/Zoro1092000/ZOZO/blob/master/Add_degree_feature_for_node.ipynb\" target=\"_parent\"><img src=\"https://colab.research.google.com/assets/colab-badge.svg\" alt=\"Open In Colab\"/></a>"
      ]
    },
    {
      "cell_type": "code",
      "execution_count": 109,
      "metadata": {
        "id": "BH0MQqEO8vS1"
      },
      "outputs": [],
      "source": [
        "import h5py\n",
        "import torch\n",
        "import numpy as np\n",
        "import collections\n"
      ]
    },
    {
      "cell_type": "code",
      "source": [
        "def write_single_graph(graph_id, x, edge_index, y, edge_y):\n",
        "    '''\n",
        "    store into hdf5 file\n",
        "    '''\n",
        "    with h5py.File(\"/content/drive/Shareddrives/botnetdata/p2p/processed/p2p_val.hdf5\", 'a') as f:\n",
        "      f.create_dataset(f'{graph_id}/x', data=x, dtype = 'float32')\n",
        "      f.create_dataset(f'{graph_id}/edge_index', data=edge_index, dtype = 'int64')\n",
        "      f.create_dataset(f'{graph_id}/y', data=y, dtype = 'uint8')\n",
        "      f.create_dataset(f'{graph_id}/edge_y', data=y, dtype = 'uint8')"
      ],
      "metadata": {
        "id": "uZKCeBX2SMBD"
      },
      "execution_count": 110,
      "outputs": []
    },
    {
      "cell_type": "code",
      "source": [
        "num_train_graph = 768\n",
        "num_val_graph = 96\n",
        "num_test_graph = 96\n",
        "with h5py.File(\"/content/drive/Shareddrives/botnetdata/P2P/processed/p2p_val.hdf5\", 'r') as f:\n",
        "\n",
        "  for graph_id in range(num_val_graph):\n",
        "    print(f[f'{graph_id}'])\n",
        "    num_node = f[f'{graph_id}']['x'].shape[0]\n",
        "    edge_index = f[f'{graph_id}']['edge_index']\n",
        "    label = f[f'{graph_id}']['y']\n",
        "    edge_y = f[f'{graph_id}']['edge_y']\n",
        "\n",
        "    node_degree = torch.zeros(f[f'{graph_id}']['x'].shape)\n",
        "\n",
        "    source_node, destination_node = edge_index\n",
        "    concat = np.concatenate((source_node, destination_node), axis=0)\n",
        "    collection = collections.Counter(concat.flatten())\n",
        "\n",
        "    for key in collection:\n",
        "      node_degree[key] = collection[key]\n",
        "\n",
        "    write_single_graph(graph_id=graph_id, x=node_degree, edge_index=edge_index, y=label, edge_y=edge_y)  "
      ],
      "metadata": {
        "colab": {
          "base_uri": "https://localhost:8080/"
        },
        "id": "aJlSGlpsJBth",
        "outputId": "9c6e5e9c-128e-403b-9639-b4b42fb5b1a0"
      },
      "execution_count": null,
      "outputs": [
        {
          "output_type": "stream",
          "name": "stdout",
          "text": [
            "<HDF5 group \"/0\" (4 members)>\n",
            "<HDF5 group \"/1\" (4 members)>\n",
            "<HDF5 group \"/2\" (4 members)>\n",
            "<HDF5 group \"/3\" (4 members)>\n",
            "<HDF5 group \"/4\" (4 members)>\n",
            "<HDF5 group \"/5\" (4 members)>\n",
            "<HDF5 group \"/6\" (4 members)>\n",
            "<HDF5 group \"/7\" (4 members)>\n",
            "<HDF5 group \"/8\" (4 members)>\n",
            "<HDF5 group \"/9\" (4 members)>\n",
            "<HDF5 group \"/10\" (4 members)>\n",
            "<HDF5 group \"/11\" (4 members)>\n",
            "<HDF5 group \"/12\" (4 members)>\n",
            "<HDF5 group \"/13\" (4 members)>\n",
            "<HDF5 group \"/14\" (4 members)>\n",
            "<HDF5 group \"/15\" (4 members)>\n",
            "<HDF5 group \"/16\" (4 members)>\n",
            "<HDF5 group \"/17\" (4 members)>\n",
            "<HDF5 group \"/18\" (4 members)>\n",
            "<HDF5 group \"/19\" (4 members)>\n",
            "<HDF5 group \"/20\" (4 members)>\n",
            "<HDF5 group \"/21\" (4 members)>\n",
            "<HDF5 group \"/22\" (4 members)>\n",
            "<HDF5 group \"/23\" (4 members)>\n",
            "<HDF5 group \"/24\" (4 members)>\n",
            "<HDF5 group \"/25\" (4 members)>\n",
            "<HDF5 group \"/26\" (4 members)>\n",
            "<HDF5 group \"/27\" (4 members)>\n",
            "<HDF5 group \"/28\" (4 members)>\n",
            "<HDF5 group \"/29\" (4 members)>\n",
            "<HDF5 group \"/30\" (4 members)>\n",
            "<HDF5 group \"/31\" (4 members)>\n",
            "<HDF5 group \"/32\" (4 members)>\n",
            "<HDF5 group \"/33\" (4 members)>\n",
            "<HDF5 group \"/34\" (4 members)>\n",
            "<HDF5 group \"/35\" (4 members)>\n",
            "<HDF5 group \"/36\" (4 members)>\n",
            "<HDF5 group \"/37\" (4 members)>\n",
            "<HDF5 group \"/38\" (4 members)>\n",
            "<HDF5 group \"/39\" (4 members)>\n",
            "<HDF5 group \"/40\" (4 members)>\n",
            "<HDF5 group \"/41\" (4 members)>\n",
            "<HDF5 group \"/42\" (4 members)>\n",
            "<HDF5 group \"/43\" (4 members)>\n",
            "<HDF5 group \"/44\" (4 members)>\n",
            "<HDF5 group \"/45\" (4 members)>\n"
          ]
        }
      ]
    }
  ]
}